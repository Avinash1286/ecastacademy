{
 "cells": [
  {
   "cell_type": "code",
   "execution_count": 1,
   "id": "6c0597a8",
   "metadata": {},
   "outputs": [
    {
     "name": "stdout",
     "output_type": "stream",
     "text": [
      "hello\n"
     ]
    }
   ],
   "source": [
    "print(\"hello\")"
   ]
  },
  {
   "cell_type": "code",
   "execution_count": 2,
   "id": "aab8fc04",
   "metadata": {},
   "outputs": [
    {
     "name": "stdout",
     "output_type": "stream",
     "text": [
      "Requirement already satisfied: youtube-transcript-api in c:\\users\\user\\anaconda3\\lib\\site-packages (0.6.3)\n",
      "Requirement already satisfied: defusedxml<0.8.0,>=0.7.1 in c:\\users\\user\\anaconda3\\lib\\site-packages (from youtube-transcript-api) (0.7.1)\n",
      "Requirement already satisfied: requests in c:\\users\\user\\anaconda3\\lib\\site-packages (from youtube-transcript-api) (2.31.0)\n",
      "Requirement already satisfied: charset-normalizer<4,>=2 in c:\\users\\user\\anaconda3\\lib\\site-packages (from requests->youtube-transcript-api) (2.0.4)\n",
      "Requirement already satisfied: idna<4,>=2.5 in c:\\users\\user\\anaconda3\\lib\\site-packages (from requests->youtube-transcript-api) (3.4)\n",
      "Requirement already satisfied: urllib3<3,>=1.21.1 in c:\\users\\user\\anaconda3\\lib\\site-packages (from requests->youtube-transcript-api) (2.2.3)\n",
      "Requirement already satisfied: certifi>=2017.4.17 in c:\\users\\user\\anaconda3\\lib\\site-packages (from requests->youtube-transcript-api) (2024.12.14)\n",
      "Note: you may need to restart the kernel to use updated packages.\n"
     ]
    }
   ],
   "source": [
    "pip install youtube-transcript-api"
   ]
  },
  {
   "cell_type": "code",
   "execution_count": 4,
   "id": "27f35f90",
   "metadata": {},
   "outputs": [
    {
     "ename": "ParseError",
     "evalue": "no element found: line 1, column 0 (<string>)",
     "output_type": "error",
     "traceback": [
      "Traceback \u001b[1;36m(most recent call last)\u001b[0m:\n",
      "\u001b[1;36m  File \u001b[1;32mc:\\Users\\user\\anaconda3\\Lib\\xml\\etree\\ElementTree.py:1716\u001b[1;36m in \u001b[1;35mclose\u001b[1;36m\n\u001b[1;33m    self.parser.Parse(b\"\", True) # end of data\u001b[1;36m\n",
      "\u001b[1;31mExpatError\u001b[0m\u001b[1;31m:\u001b[0m no element found: line 1, column 0\n",
      "\nDuring handling of the above exception, another exception occurred:\n",
      "Traceback \u001b[1;36m(most recent call last)\u001b[0m:\n",
      "\u001b[0m  File \u001b[0;32mc:\\Users\\user\\anaconda3\\Lib\\site-packages\\IPython\\core\\interactiveshell.py:3553\u001b[0m in \u001b[0;35mrun_code\u001b[0m\n    exec(code_obj, self.user_global_ns, self.user_ns)\u001b[0m\n",
      "\u001b[0m  Cell \u001b[0;32mIn[4], line 3\u001b[0m\n    transcript = YouTubeTranscriptApi.get_transcript('TTzrK4kAlGU')\u001b[0m\n",
      "\u001b[0m  File \u001b[0;32mc:\\Users\\user\\anaconda3\\Lib\\site-packages\\youtube_transcript_api\\_api.py:156\u001b[0m in \u001b[0;35mget_transcript\u001b[0m\n    .fetch(preserve_formatting=preserve_formatting)\u001b[0m\n",
      "\u001b[0m  File \u001b[0;32mc:\\Users\\user\\anaconda3\\Lib\\site-packages\\youtube_transcript_api\\_transcripts.py:324\u001b[0m in \u001b[0;35mfetch\u001b[0m\n    return _TranscriptParser(preserve_formatting=preserve_formatting).parse(\u001b[0m\n",
      "\u001b[0m  File \u001b[0;32mc:\\Users\\user\\anaconda3\\Lib\\site-packages\\youtube_transcript_api\\_transcripts.py:392\u001b[0m in \u001b[0;35mparse\u001b[0m\n    for xml_element in ElementTree.fromstring(plain_data)\u001b[0m\n",
      "\u001b[0m  File \u001b[0;32mc:\\Users\\user\\anaconda3\\Lib\\site-packages\\defusedxml\\common.py:127\u001b[0m in \u001b[0;35mfromstring\u001b[0m\n    return parser.close()\u001b[0m\n",
      "\u001b[0m  File \u001b[0;32mc:\\Users\\user\\anaconda3\\Lib\\xml\\etree\\ElementTree.py:1718\u001b[0m in \u001b[0;35mclose\u001b[0m\n    self._raiseerror(v)\u001b[0m\n",
      "\u001b[1;36m  File \u001b[1;32mc:\\Users\\user\\anaconda3\\Lib\\xml\\etree\\ElementTree.py:1618\u001b[1;36m in \u001b[1;35m_raiseerror\u001b[1;36m\n\u001b[1;33m    raise err\u001b[1;36m\n",
      "\u001b[1;36m  File \u001b[1;32m<string>\u001b[1;36m\u001b[0m\n\u001b[1;31mParseError\u001b[0m\u001b[1;31m:\u001b[0m no element found: line 1, column 0\n"
     ]
    }
   ],
   "source": [
    "from youtube_transcript_api import YouTubeTranscriptApi\n",
    "\n",
    "transcript = YouTubeTranscriptApi.get_transcript('TTzrK4kAlGU')\n",
    "print(transcript)"
   ]
  },
  {
   "cell_type": "code",
   "execution_count": null,
   "id": "ee7326f0",
   "metadata": {},
   "outputs": [],
   "source": []
  }
 ],
 "metadata": {
  "kernelspec": {
   "display_name": "base",
   "language": "python",
   "name": "python3"
  },
  "language_info": {
   "codemirror_mode": {
    "name": "ipython",
    "version": 3
   },
   "file_extension": ".py",
   "mimetype": "text/x-python",
   "name": "python",
   "nbconvert_exporter": "python",
   "pygments_lexer": "ipython3",
   "version": "3.11.7"
  }
 },
 "nbformat": 4,
 "nbformat_minor": 5
}
